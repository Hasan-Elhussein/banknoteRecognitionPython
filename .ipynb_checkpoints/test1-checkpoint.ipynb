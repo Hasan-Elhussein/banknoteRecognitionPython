{
 "cells": [
  {
   "cell_type": "code",
   "execution_count": 3,
   "metadata": {},
   "outputs": [],
   "source": [
    "import numpy as np\n",
    "import pandas as pd \n",
    "import matplotlib.pyplot as plt\n",
    "import glob\n",
    "import re\n",
    "import skimage \n",
    "import os\n",
    "from sklearn.model_selection import train_test_split\n",
    "from keras import backend as K\n",
    "from tensorflow.keras.utils import to_categorical\n",
    "from keras.layers import Dense\n",
    "from keras.models import Sequential\n",
    "from keras.callbacks import EarlyStopping, ModelCheckpoint\n",
    "# from keras.applications import InceptionResNetV2\n",
    "from keras.layers import Conv2D, MaxPooling2D, Flatten, Dropout, Activation\n",
    "from keras.layers.advanced_activations import LeakyReLU\n",
    "from keras.preprocessing.image import ImageDataGenerator\n",
    "from PIL import Image"
   ]
  },
  {
   "cell_type": "code",
   "execution_count": 6,
   "metadata": {},
   "outputs": [],
   "source": [
    "main_path='/input'\n",
    "train_lst, test_lst=[], []\n",
    "with open ('input/validation.txt') as test_f:\n",
    "    reader=test_f.read()\n",
    "    lst=reader.split()\n",
    "    for img in lst:\n",
    "        test_lst.append(main_path+img)\n",
    "with open ('input/train.txt') as train_f:\n",
    "    reader=train_f.read()\n",
    "    lst=reader.split()\n",
    "    for img in lst:\n",
    "        train_lst.append(main_path+img)"
   ]
  },
  {
   "cell_type": "code",
   "execution_count": 7,
   "metadata": {},
   "outputs": [],
   "source": [
    "def show_image(path):\n",
    "    comp=re.compile(r'[\\w\\d\\/\\-]+\\/(\\d{0,5})\\/[\\w\\d\\_\\.]+')\n",
    "    val=comp.findall(path)[0]\n",
    "    img=plt.imread(path)\n",
    "    plt.imshow(img)\n",
    "    plt.title('Turkish banknote: {}'.format(val))\n",
    "    plt.show()"
   ]
  },
  {
   "cell_type": "code",
   "execution_count": 9,
   "metadata": {},
   "outputs": [
    {
     "name": "stdout",
     "output_type": "stream",
     "text": [
      "image shape: width=1280, height=1280, channels=3\n"
     ]
    }
   ],
   "source": [
    "# setting the image shape\n",
    "img=plt.imread('input/20/20_1_0005.png')\n",
    "height=img.shape[0]\n",
    "width=img.shape[1]\n",
    "channels=img.shape[2]\n",
    "print('image shape: width={}, height={}, channels={}'.format(width, width, channels))"
   ]
  },
  {
   "cell_type": "code",
   "execution_count": 10,
   "metadata": {},
   "outputs": [
    {
     "ename": "IndexError",
     "evalue": "list index out of range",
     "output_type": "error",
     "traceback": [
      "\u001b[1;31m---------------------------------------------------------------------------\u001b[0m",
      "\u001b[1;31mIndexError\u001b[0m                                Traceback (most recent call last)",
      "\u001b[1;32m<ipython-input-10-5fb34958bd26>\u001b[0m in \u001b[0;36m<module>\u001b[1;34m\u001b[0m\n\u001b[0;32m      2\u001b[0m \u001b[1;32mfor\u001b[0m \u001b[0mpath\u001b[0m \u001b[1;32min\u001b[0m \u001b[0mtrain_lst\u001b[0m\u001b[1;33m:\u001b[0m\u001b[1;33m\u001b[0m\u001b[1;33m\u001b[0m\u001b[0m\n\u001b[0;32m      3\u001b[0m     \u001b[0mcomp\u001b[0m\u001b[1;33m=\u001b[0m\u001b[0mre\u001b[0m\u001b[1;33m.\u001b[0m\u001b[0mcompile\u001b[0m\u001b[1;33m(\u001b[0m\u001b[1;34mr'[\\w\\d\\/\\-]+\\/(\\d{0,5})\\/[\\w\\d\\_\\.]+'\u001b[0m\u001b[1;33m)\u001b[0m\u001b[1;33m\u001b[0m\u001b[1;33m\u001b[0m\u001b[0m\n\u001b[1;32m----> 4\u001b[1;33m     \u001b[0mval\u001b[0m\u001b[1;33m=\u001b[0m\u001b[0mcomp\u001b[0m\u001b[1;33m.\u001b[0m\u001b[0mfindall\u001b[0m\u001b[1;33m(\u001b[0m\u001b[0mpath\u001b[0m\u001b[1;33m)\u001b[0m\u001b[1;33m[\u001b[0m\u001b[1;36m0\u001b[0m\u001b[1;33m]\u001b[0m\u001b[1;33m\u001b[0m\u001b[1;33m\u001b[0m\u001b[0m\n\u001b[0m\u001b[0;32m      5\u001b[0m     \u001b[0mtrain_labels\u001b[0m\u001b[1;33m.\u001b[0m\u001b[0mappend\u001b[0m\u001b[1;33m(\u001b[0m\u001b[0mval\u001b[0m\u001b[1;33m)\u001b[0m\u001b[1;33m\u001b[0m\u001b[1;33m\u001b[0m\u001b[0m\n\u001b[0;32m      6\u001b[0m \u001b[1;32mfor\u001b[0m \u001b[0mpath\u001b[0m \u001b[1;32min\u001b[0m \u001b[0mtest_lst\u001b[0m\u001b[1;33m:\u001b[0m\u001b[1;33m\u001b[0m\u001b[1;33m\u001b[0m\u001b[0m\n",
      "\u001b[1;31mIndexError\u001b[0m: list index out of range"
     ]
    }
   ],
   "source": [
    "train_labels, test_labels=[], []\n",
    "for path in train_lst:\n",
    "    comp=re.compile(r'[\\w\\d\\/\\-]+\\/(\\d{0,5})\\/[\\w\\d\\_\\.]+')\n",
    "    val=comp.findall(path)[0]\n",
    "    train_labels.append(val)\n",
    "for path in test_lst:\n",
    "    comp=re.compile(r'[\\w\\d\\/\\-]+\\/(\\d{0,5})\\/[\\w\\d\\_\\.]+')\n",
    "    val=comp.findall(path)[0]\n",
    "    test_labels.append(val)\n",
    "train_df=pd.DataFrame({\n",
    "    'image_path':train_lst,\n",
    "    'label':train_labels\n",
    "})\n",
    "test_df=pd.DataFrame({\n",
    "    'image_path':test_lst,\n",
    "    'label':test_labels\n",
    "})"
   ]
  },
  {
   "cell_type": "code",
   "execution_count": null,
   "metadata": {},
   "outputs": [],
   "source": []
  }
 ],
 "metadata": {
  "kernelspec": {
   "display_name": "Python 3",
   "language": "python",
   "name": "python3"
  },
  "language_info": {
   "codemirror_mode": {
    "name": "ipython",
    "version": 3
   },
   "file_extension": ".py",
   "mimetype": "text/x-python",
   "name": "python",
   "nbconvert_exporter": "python",
   "pygments_lexer": "ipython3",
   "version": "3.8.5"
  }
 },
 "nbformat": 4,
 "nbformat_minor": 4
}
