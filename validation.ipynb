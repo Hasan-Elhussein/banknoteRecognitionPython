{
 "cells": [
  {
   "cell_type": "code",
   "execution_count": 20,
   "metadata": {},
   "outputs": [],
   "source": [
    "# importing the libraries\n",
    "\n",
    "import itertools\n",
    "import PIL\n",
    "import numpy as np\n",
    "import cv2\n",
    "from matplotlib import pyplot as plt\n",
    "from sklearn.metrics import accuracy_score,confusion_matrix,classification_report\n",
    "import tensorflow.keras"
   ]
  },
  {
   "cell_type": "code",
   "execution_count": 21,
   "metadata": {},
   "outputs": [
    {
     "name": "stdout",
     "output_type": "stream",
     "text": [
      "WARNING:tensorflow:No training configuration found in the save file, so the model was *not* compiled. Compile it manually.\n"
     ]
    }
   ],
   "source": [
    "# snippet from teachablMachineWithGoogle\n",
    "\n",
    "# Disable scientific notation for clarity\n",
    "np.set_printoptions(suppress=True)\n",
    "\n",
    "# Load the model\n",
    "model = tensorflow.keras.models.load_model('keras_model_mid.h5')\n",
    "\n",
    "# Create the array of the right shape to feed into the keras model\n",
    "# The 'length' or number of images you can put into the array is\n",
    "# determined by the first position in the shape tuple, in this case 1.\n",
    "data = np.ndarray(shape=(1, 224, 224, 3), dtype=np.float32)\n",
    "\n",
    "# Variables\n",
    "widthImg = 640\n",
    "heightImg = 480\n",
    "size = (224, 224)\n",
    "classNames = [\"5TL\", \"10TL\", \"20TL\", \"50TL\", \"100TL\", \"200TL\"]\n",
    "index = 0\n",
    "kernel = np.ones((5,5))\n",
    "maxValue = 0"
   ]
  },
  {
   "cell_type": "code",
   "execution_count": 22,
   "metadata": {},
   "outputs": [],
   "source": [
    "# a function used to plot the confusion matrix\n",
    "\n",
    "def plot_confusion_matrix(cm, classes,\n",
    "                        normalize=False,\n",
    "                        title='Confusion matrix',\n",
    "                        cmap=plt.cm.Blues):\n",
    "    \"\"\"\n",
    "    This function prints and plots the confusion matrix.\n",
    "    Normalization can be applied by setting `normalize=True`.\n",
    "    \"\"\"\n",
    "    plt.imshow(cm, interpolation='nearest', cmap=cmap)\n",
    "    plt.title(title)\n",
    "    plt.colorbar()\n",
    "    tick_marks = np.arange(len(classes))\n",
    "    plt.xticks(tick_marks, classes, rotation=45)\n",
    "    plt.yticks(tick_marks, classes)\n",
    "\n",
    "    if normalize:\n",
    "        cm = cm.astype('float') / cm.sum(axis=1)[:, np.newaxis]\n",
    "        print(\"Normalized confusion matrix\")\n",
    "    else:\n",
    "        print('Confusion matrix, without normalization')\n",
    "\n",
    "    print(cm)\n",
    "\n",
    "    thresh = cm.max() / 2.\n",
    "    for i, j in itertools.product(range(cm.shape[0]), range(cm.shape[1])):\n",
    "        plt.text(j, i, cm[i, j],\n",
    "            horizontalalignment=\"center\",\n",
    "            color=\"white\" if cm[i, j] > thresh else \"black\")\n",
    "\n",
    "    plt.tight_layout()\n",
    "    plt.ylabel('True label')\n",
    "    plt.xlabel('Predicted label')"
   ]
  },
  {
   "cell_type": "code",
   "execution_count": 23,
   "metadata": {},
   "outputs": [],
   "source": [
    "# Testing the model using validation dataset\n",
    "\n",
    "with open('input/validation.txt') as file:\n",
    "    lines = file.readlines()\n",
    "\n",
    "images = []\n",
    "predictions = []\n",
    "rounded_predictions = []\n",
    "\n",
    "for line in lines:\n",
    "    img_path = 'input/' + line\n",
    "    if len(img_path) != 0:\n",
    "        image = cv2.imread(img_path[:-1])\n",
    "\n",
    "        if (type(image) != type(None)):\n",
    "            image = cv2.resize(image, (224,224))\n",
    "            images.append(image)\n",
    "\n",
    "            image_array = np.asarray(image)\n",
    "            normalized_image_array = (image_array.astype(np.float32) / 127.0) - 1\n",
    "            data[0] = normalized_image_array\n",
    "            prediction = model.predict(data)\n",
    "            predictions.append(prediction[0])\n",
    "            rounded_predictions.append(np.argmax(prediction[0], axis=-1))\n",
    "        else:\n",
    "            print(\"error 1 at: \", img_path) # for debugging (if an error occurs it means that the image is currupted)\n",
    "    else:\n",
    "        print(\"error 2 at: \", img_path) # for debugging (if an error occurs it means that the image is currputed)\n",
    "\n",
    "            \n",
    "# print(rounded_predictions)"
   ]
  },
  {
   "cell_type": "code",
   "execution_count": 24,
   "metadata": {},
   "outputs": [
    {
     "name": "stdout",
     "output_type": "stream",
     "text": [
      "Confusion matrix, without normalization\n",
      "[[60  3  3  2  7  0]\n",
      " [10  6 21 14 24  0]\n",
      " [ 7  0 59  2  7  0]\n",
      " [ 2  0  1 56 12  4]\n",
      " [ 2  0  5  9 57  2]\n",
      " [ 2  0 10 15 14 34]]\n"
     ]
    },
    {
     "data": {
      "image/png": "[encoded data removed]",
      "text/plain": [
       "<Figure size 432x288 with 2 Axes>"
      ]
     },
     "metadata": {
      "needs_background": "light"
     },
     "output_type": "display_data"
    }
   ],
   "source": [
    "# Plotting the confusion matrix \n",
    "\n",
    "plot_labels = [\"5\", \"10\", \"20\", \"50\", \"100\", \"200\"]\n",
    "test_labels = []\n",
    "for i in range (0,75):\n",
    "    test_labels.append(0)\n",
    "for i in range (75,150):\n",
    "    test_labels.append(1)\n",
    "for i in range (150,225):\n",
    "    test_labels.append(2)\n",
    "for i in range (225,300):\n",
    "    test_labels.append(4)\n",
    "for i in range (300,375):\n",
    "    test_labels.append(3)\n",
    "for i in range (375,450):\n",
    "    test_labels.append(5)\n",
    "test_labels = np.array(test_labels)\n",
    "\n",
    "cm = confusion_matrix(y_true=test_labels, y_pred=rounded_predictions)\n",
    "plot_confusion_matrix(cm=cm, classes=plot_labels)"
   ]
  },
  {
   "cell_type": "code",
   "execution_count": null,
   "metadata": {},
   "outputs": [],
   "source": []
  }
 ],
 "metadata": {
  "kernelspec": {
   "display_name": "Python 3",
   "language": "python",
   "name": "python3"
  },
  "language_info": {
   "codemirror_mode": {
    "name": "ipython",
    "version": 3
   },
   "file_extension": ".py",
   "mimetype": "text/x-python",
   "name": "python",
   "nbconvert_exporter": "python",
   "pygments_lexer": "ipython3",
   "version": "3.8.5"
  }
 },
 "nbformat": 4,
 "nbformat_minor": 4
}
